{
  "nbformat": 4,
  "nbformat_minor": 0,
  "metadata": {
    "colab": {
      "provenance": []
    },
    "kernelspec": {
      "name": "python3",
      "display_name": "Python 3"
    },
    "language_info": {
      "name": "python"
    }
  },
  "cells": [
    {
      "cell_type": "code",
      "source": [],
      "metadata": {
        "id": "Cp9MKX6ZM7jn"
      },
      "execution_count": null,
      "outputs": []
    },
    {
      "cell_type": "markdown",
      "source": [
        "# SUBHAN ABBASI SP22-BSE-002 SECTION:**6A**"
      ],
      "metadata": {
        "id": "lrZCtfRLM8vy"
      }
    },
    {
      "cell_type": "code",
      "source": [
        "from collections import deque\n",
        "\n",
        "graph = {\n",
        "    \"Islamabad\": [\"Rawalpindi\", \"Lahore\", \"Peshawar\"],\n",
        "    \"Rawalpindi\": [\"Islamabad\", \"Peshawar\", \"Quetta\"],\n",
        "    \"Peshawar\": [\"Islamabad\", \"Rawalpindi\", \"Quetta\"],\n",
        "    \"Lahore\": [\"Islamabad\", \"Multan\", \"Quetta\"],\n",
        "    \"Multan\": [\"Lahore\", \"Karachi\", \"Quetta\"],\n",
        "    \"Quetta\": [\"Rawalpindi\", \"Peshawar\", \"Multan\", \"Karachi\"],\n",
        "    \"Karachi\": [\"Multan\", \"Quetta\"]\n",
        "}\n",
        "\n",
        "def bfs_shortest_path(start, goal):\n",
        "    queue = deque([(start, [start])])\n",
        "    visited = set()\n",
        "\n",
        "    while queue:\n",
        "        node, path = queue.popleft()\n",
        "        if node == goal:\n",
        "            return path\n",
        "        visited.add(node)\n",
        "        for neighbor in graph[node]:\n",
        "            if neighbor not in visited:\n",
        "                queue.append((neighbor, path + [neighbor]))\n",
        "    return None\n",
        "\n",
        "shortest_path = bfs_shortest_path(\"Islamabad\", \"Karachi\")\n",
        "print(\"Shortest path from Islamabad to Karachi:\", shortest_path)"
      ],
      "metadata": {
        "colab": {
          "base_uri": "https://localhost:8080/"
        },
        "id": "sjdP7kXTNK1G",
        "outputId": "345fd131-8a0d-44f4-ddf2-91003f4b3c33"
      },
      "execution_count": 1,
      "outputs": [
        {
          "output_type": "stream",
          "name": "stdout",
          "text": [
            "Shortest path from Islamabad to Karachi: ['Islamabad', 'Rawalpindi', 'Quetta', 'Karachi']\n"
          ]
        }
      ]
    }
  ]
}